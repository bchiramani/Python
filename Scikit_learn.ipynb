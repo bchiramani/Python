{
  "nbformat": 4,
  "nbformat_minor": 0,
  "metadata": {
    "colab": {
      "provenance": [],
      "authorship_tag": "ABX9TyOjlg71XjLDZjD3migHNyOD",
      "include_colab_link": true
    },
    "kernelspec": {
      "name": "python3",
      "display_name": "Python 3"
    },
    "language_info": {
      "name": "python"
    }
  },
  "cells": [
    {
      "cell_type": "markdown",
      "metadata": {
        "id": "view-in-github",
        "colab_type": "text"
      },
      "source": [
        "<a href=\"https://colab.research.google.com/github/bchiramani/Python/blob/main/Scikit_learn.ipynb\" target=\"_parent\"><img src=\"https://colab.research.google.com/assets/colab-badge.svg\" alt=\"Open In Colab\"/></a>"
      ]
    },
    {
      "cell_type": "markdown",
      "source": [
        "# Scikit-learn\n",
        "Scikit-learn has a gradient descent regression model sklearn.linear_model.SGDRegressor. This model performs best with normalized inputs. sklearn.preprocessing.StandardScaler will perform z-score normalization ."
      ],
      "metadata": {
        "id": "mRFs4oMb3rRL"
      }
    },
    {
      "cell_type": "code",
      "execution_count": null,
      "metadata": {
        "id": "FxB_m7fr3ptY"
      },
      "outputs": [],
      "source": [
        "import numpy as np\n",
        "import matplotlib.pyplot as plt\n",
        "from sklearn.linear_model import SGDRegressor\n",
        "from sklearn.preprocessing import StandardScaler\n"
      ]
    },
    {
      "cell_type": "markdown",
      "source": [
        "# Load the dataset"
      ],
      "metadata": {
        "id": "RfW62h8543n5"
      }
    },
    {
      "cell_type": "code",
      "source": [
        "data = np.loadtxt(\"/content/houses.txt\", delimiter=',', skiprows=1)\n",
        "X_train = data[:,:4]\n",
        "y_train = data[:,4]\n",
        "X_features = ['size(sqft)','bedrooms','floors','age']"
      ],
      "metadata": {
        "id": "BQfF4DQ84KXj"
      },
      "execution_count": null,
      "outputs": []
    },
    {
      "cell_type": "code",
      "source": [
        "X_train"
      ],
      "metadata": {
        "colab": {
          "base_uri": "https://localhost:8080/"
        },
        "id": "7ArBFKKH4h8p",
        "outputId": "ca8849ad-7144-4db0-cd4d-df11367e8723"
      },
      "execution_count": null,
      "outputs": [
        {
          "output_type": "execute_result",
          "data": {
            "text/plain": [
              "array([[1.244e+03, 3.000e+00, 1.000e+00, 6.400e+01],\n",
              "       [1.947e+03, 3.000e+00, 2.000e+00, 1.700e+01],\n",
              "       [1.725e+03, 3.000e+00, 2.000e+00, 4.200e+01],\n",
              "       [1.959e+03, 3.000e+00, 2.000e+00, 1.500e+01],\n",
              "       [1.314e+03, 2.000e+00, 1.000e+00, 1.400e+01],\n",
              "       [8.640e+02, 2.000e+00, 1.000e+00, 6.600e+01],\n",
              "       [1.836e+03, 3.000e+00, 1.000e+00, 1.700e+01],\n",
              "       [1.026e+03, 3.000e+00, 1.000e+00, 4.300e+01],\n",
              "       [3.194e+03, 4.000e+00, 2.000e+00, 8.700e+01],\n",
              "       [7.880e+02, 2.000e+00, 1.000e+00, 8.000e+01],\n",
              "       [1.200e+03, 2.000e+00, 2.000e+00, 1.700e+01],\n",
              "       [1.557e+03, 2.000e+00, 1.000e+00, 1.800e+01],\n",
              "       [1.430e+03, 3.000e+00, 1.000e+00, 2.000e+01],\n",
              "       [1.220e+03, 2.000e+00, 1.000e+00, 1.500e+01],\n",
              "       [1.092e+03, 2.000e+00, 1.000e+00, 6.400e+01],\n",
              "       [8.480e+02, 1.000e+00, 1.000e+00, 1.700e+01],\n",
              "       [1.682e+03, 3.000e+00, 2.000e+00, 2.300e+01],\n",
              "       [1.768e+03, 3.000e+00, 2.000e+00, 1.800e+01],\n",
              "       [1.040e+03, 3.000e+00, 1.000e+00, 4.400e+01],\n",
              "       [1.652e+03, 2.000e+00, 1.000e+00, 2.100e+01],\n",
              "       [1.088e+03, 2.000e+00, 1.000e+00, 3.500e+01],\n",
              "       [1.316e+03, 3.000e+00, 1.000e+00, 1.400e+01],\n",
              "       [1.593e+03, 0.000e+00, 1.000e+00, 2.000e+01],\n",
              "       [9.720e+02, 2.000e+00, 1.000e+00, 7.300e+01],\n",
              "       [1.097e+03, 3.000e+00, 1.000e+00, 3.700e+01],\n",
              "       [1.004e+03, 2.000e+00, 1.000e+00, 5.100e+01],\n",
              "       [9.040e+02, 3.000e+00, 1.000e+00, 5.500e+01],\n",
              "       [1.694e+03, 3.000e+00, 1.000e+00, 1.300e+01],\n",
              "       [1.073e+03, 2.000e+00, 1.000e+00, 1.000e+02],\n",
              "       [1.419e+03, 3.000e+00, 2.000e+00, 1.900e+01],\n",
              "       [1.164e+03, 3.000e+00, 1.000e+00, 5.200e+01],\n",
              "       [1.935e+03, 3.000e+00, 2.000e+00, 1.200e+01],\n",
              "       [1.216e+03, 2.000e+00, 2.000e+00, 7.400e+01],\n",
              "       [2.482e+03, 4.000e+00, 2.000e+00, 1.600e+01],\n",
              "       [1.200e+03, 2.000e+00, 1.000e+00, 1.800e+01],\n",
              "       [1.840e+03, 3.000e+00, 2.000e+00, 2.000e+01],\n",
              "       [1.851e+03, 3.000e+00, 2.000e+00, 5.700e+01],\n",
              "       [1.660e+03, 3.000e+00, 2.000e+00, 1.900e+01],\n",
              "       [1.096e+03, 2.000e+00, 2.000e+00, 9.700e+01],\n",
              "       [1.775e+03, 3.000e+00, 2.000e+00, 2.800e+01],\n",
              "       [2.030e+03, 4.000e+00, 2.000e+00, 4.500e+01],\n",
              "       [1.784e+03, 4.000e+00, 2.000e+00, 1.070e+02],\n",
              "       [1.073e+03, 2.000e+00, 1.000e+00, 1.000e+02],\n",
              "       [1.552e+03, 3.000e+00, 1.000e+00, 1.600e+01],\n",
              "       [1.953e+03, 3.000e+00, 2.000e+00, 1.600e+01],\n",
              "       [1.224e+03, 2.000e+00, 2.000e+00, 1.200e+01],\n",
              "       [1.616e+03, 3.000e+00, 1.000e+00, 1.600e+01],\n",
              "       [8.160e+02, 2.000e+00, 1.000e+00, 5.800e+01],\n",
              "       [1.349e+03, 3.000e+00, 1.000e+00, 2.100e+01],\n",
              "       [1.571e+03, 3.000e+00, 1.000e+00, 1.400e+01],\n",
              "       [1.486e+03, 3.000e+00, 1.000e+00, 5.700e+01],\n",
              "       [1.506e+03, 2.000e+00, 1.000e+00, 1.600e+01],\n",
              "       [1.097e+03, 3.000e+00, 1.000e+00, 2.700e+01],\n",
              "       [1.764e+03, 3.000e+00, 2.000e+00, 2.400e+01],\n",
              "       [1.208e+03, 2.000e+00, 1.000e+00, 1.400e+01],\n",
              "       [1.470e+03, 3.000e+00, 2.000e+00, 2.400e+01],\n",
              "       [1.768e+03, 3.000e+00, 2.000e+00, 8.400e+01],\n",
              "       [1.654e+03, 3.000e+00, 1.000e+00, 1.900e+01],\n",
              "       [1.029e+03, 3.000e+00, 1.000e+00, 6.000e+01],\n",
              "       [1.120e+03, 2.000e+00, 2.000e+00, 1.600e+01],\n",
              "       [1.150e+03, 3.000e+00, 1.000e+00, 6.200e+01],\n",
              "       [8.160e+02, 2.000e+00, 1.000e+00, 3.900e+01],\n",
              "       [1.040e+03, 3.000e+00, 1.000e+00, 2.500e+01],\n",
              "       [1.392e+03, 3.000e+00, 1.000e+00, 6.400e+01],\n",
              "       [1.603e+03, 3.000e+00, 2.000e+00, 2.900e+01],\n",
              "       [1.215e+03, 3.000e+00, 1.000e+00, 6.300e+01],\n",
              "       [1.073e+03, 2.000e+00, 1.000e+00, 1.000e+02],\n",
              "       [2.599e+03, 4.000e+00, 2.000e+00, 2.200e+01],\n",
              "       [1.431e+03, 3.000e+00, 1.000e+00, 5.900e+01],\n",
              "       [2.090e+03, 3.000e+00, 2.000e+00, 2.600e+01],\n",
              "       [1.790e+03, 4.000e+00, 2.000e+00, 4.900e+01],\n",
              "       [1.484e+03, 3.000e+00, 2.000e+00, 1.600e+01],\n",
              "       [1.040e+03, 3.000e+00, 1.000e+00, 2.500e+01],\n",
              "       [1.431e+03, 3.000e+00, 1.000e+00, 2.200e+01],\n",
              "       [1.159e+03, 3.000e+00, 1.000e+00, 5.300e+01],\n",
              "       [1.547e+03, 3.000e+00, 2.000e+00, 1.200e+01],\n",
              "       [1.983e+03, 3.000e+00, 2.000e+00, 2.200e+01],\n",
              "       [1.056e+03, 3.000e+00, 1.000e+00, 5.300e+01],\n",
              "       [1.180e+03, 2.000e+00, 1.000e+00, 9.900e+01],\n",
              "       [1.358e+03, 2.000e+00, 1.000e+00, 1.700e+01],\n",
              "       [9.600e+02, 3.000e+00, 1.000e+00, 5.100e+01],\n",
              "       [1.456e+03, 3.000e+00, 2.000e+00, 1.600e+01],\n",
              "       [1.446e+03, 3.000e+00, 2.000e+00, 2.500e+01],\n",
              "       [1.208e+03, 2.000e+00, 1.000e+00, 1.500e+01],\n",
              "       [1.553e+03, 3.000e+00, 2.000e+00, 1.600e+01],\n",
              "       [8.820e+02, 3.000e+00, 1.000e+00, 4.900e+01],\n",
              "       [2.030e+03, 4.000e+00, 2.000e+00, 4.500e+01],\n",
              "       [1.040e+03, 3.000e+00, 1.000e+00, 6.200e+01],\n",
              "       [1.616e+03, 3.000e+00, 1.000e+00, 1.600e+01],\n",
              "       [8.030e+02, 2.000e+00, 1.000e+00, 8.000e+01],\n",
              "       [1.430e+03, 3.000e+00, 2.000e+00, 2.100e+01],\n",
              "       [1.656e+03, 3.000e+00, 1.000e+00, 6.100e+01],\n",
              "       [1.541e+03, 3.000e+00, 1.000e+00, 1.600e+01],\n",
              "       [9.480e+02, 3.000e+00, 1.000e+00, 5.300e+01],\n",
              "       [1.224e+03, 2.000e+00, 2.000e+00, 1.200e+01],\n",
              "       [1.432e+03, 2.000e+00, 1.000e+00, 4.300e+01],\n",
              "       [1.660e+03, 3.000e+00, 2.000e+00, 1.900e+01],\n",
              "       [1.212e+03, 3.000e+00, 1.000e+00, 2.000e+01],\n",
              "       [1.050e+03, 2.000e+00, 1.000e+00, 6.500e+01]])"
            ]
          },
          "metadata": {},
          "execution_count": 6
        }
      ]
    },
    {
      "cell_type": "markdown",
      "source": [
        "# Scale/normalize the training data"
      ],
      "metadata": {
        "id": "9eK7_PnS5AyX"
      }
    },
    {
      "cell_type": "code",
      "source": [
        "scaler = StandardScaler()\n",
        "X_norm = scaler.fit_transform(X_train)\n",
        "print(f\"Peak to Peak range by column in Raw        X:{np.ptp(X_train,axis=0)}\")   \n",
        "print(f\"Peak to Peak range by column in Normalized X:{np.ptp(X_norm,axis=0)}\")"
      ],
      "metadata": {
        "colab": {
          "base_uri": "https://localhost:8080/"
        },
        "id": "CnxXwisO4pcH",
        "outputId": "bc413d16-a386-40e9-da37-75a5970041e2"
      },
      "execution_count": null,
      "outputs": [
        {
          "output_type": "stream",
          "name": "stdout",
          "text": [
            "Peak to Peak range by column in Raw        X:[2.406e+03 4.000e+00 1.000e+00 9.500e+01]\n",
            "Peak to Peak range by column in Normalized X:[5.8452591  6.13529646 2.05626214 3.68533012]\n"
          ]
        }
      ]
    },
    {
      "cell_type": "markdown",
      "source": [
        "# Create and fit the regression model"
      ],
      "metadata": {
        "id": "ZOY4xnUV5Ija"
      }
    },
    {
      "cell_type": "code",
      "source": [
        "sgdr = SGDRegressor(max_iter=1000)\n",
        "sgdr.fit(X_norm, y_train)\n",
        "print(sgdr)\n",
        "print(f\"number of iterations completed: {sgdr.n_iter_}, number of weight updates: {sgdr.t_}\")"
      ],
      "metadata": {
        "colab": {
          "base_uri": "https://localhost:8080/"
        },
        "id": "Q6X8ZWvM4-os",
        "outputId": "fb2dbffa-1466-4780-bf9c-256253d7d27e"
      },
      "execution_count": null,
      "outputs": [
        {
          "output_type": "stream",
          "name": "stdout",
          "text": [
            "SGDRegressor()\n",
            "number of iterations completed: 118, number of weight updates: 11683.0\n"
          ]
        }
      ]
    },
    {
      "cell_type": "code",
      "source": [
        "b_norm = sgdr.intercept_\n",
        "w_norm = sgdr.coef_\n",
        "print(f\"model parameters:                   w: {w_norm}, b:{b_norm}\")\n",
        "print( \"model parameters from previous lab: w: [110.56 -21.27 -32.71 -37.97], b: 363.16\")"
      ],
      "metadata": {
        "colab": {
          "base_uri": "https://localhost:8080/"
        },
        "id": "tBPrGOmH5ZaY",
        "outputId": "887fe0e9-aaeb-462a-8527-c42ad6e5fd84"
      },
      "execution_count": null,
      "outputs": [
        {
          "output_type": "stream",
          "name": "stdout",
          "text": [
            "model parameters:                   w: [110.08579413 -20.96856689 -32.36811416 -38.08275171], b:[363.17015354]\n",
            "model parameters from previous lab: w: [110.56 -21.27 -32.71 -37.97], b: 363.16\n"
          ]
        }
      ]
    },
    {
      "cell_type": "markdown",
      "source": [
        "# Make predictions"
      ],
      "metadata": {
        "id": "2T8Mom5W5Tn_"
      }
    },
    {
      "cell_type": "code",
      "source": [
        "# make a prediction using sgdr.predict()\n",
        "y_pred_sgd = sgdr.predict(X_norm)\n",
        "# make a prediction using w,b. \n",
        "y_pred = np.dot(X_norm, w_norm) + b_norm  \n",
        "print(f\"prediction using np.dot() and sgdr.predict match: {(y_pred == y_pred_sgd).all()}\")\n",
        "\n",
        "print(f\"Prediction on training set:\\n{y_pred[:4]}\" )\n",
        "print(f\"Target values \\n{y_train[:4]}\")"
      ],
      "metadata": {
        "colab": {
          "base_uri": "https://localhost:8080/"
        },
        "id": "yiF6e0-k5G_T",
        "outputId": "cb57109b-c9f6-4a54-9b67-d798d0a8fd3d"
      },
      "execution_count": null,
      "outputs": [
        {
          "output_type": "stream",
          "name": "stdout",
          "text": [
            "prediction using np.dot() and sgdr.predict match: True\n",
            "Prediction on training set:\n",
            "[295.14130893 486.03503979 389.72801868 492.19910075]\n",
            "Target values \n",
            "[300.  509.8 394.  540. ]\n"
          ]
        }
      ]
    },
    {
      "cell_type": "code",
      "source": [
        "dlc = dict(dlblue = '#0096ff', dlorange = '#FF9300', dldarkred='#C00000', dlmagenta='#FF40FF', dlpurple='#7030A0')\n",
        "# plot predictions and targets vs original features    \n",
        "fig,ax=plt.subplots(1,4,figsize=(12,3),sharey=True)\n",
        "for i in range(len(ax)):\n",
        "    ax[i].scatter(X_train[:,i],y_train, label = 'target')\n",
        "    ax[i].set_xlabel(X_features[i])\n",
        "    ax[i].scatter(X_train[:,i],y_pred,color=dlc[\"dlorange\"], label = 'predict')\n",
        "ax[0].set_ylabel(\"Price\"); ax[0].legend();\n",
        "fig.suptitle(\"target versus prediction using z-score normalized model\")\n",
        "plt.show()"
      ],
      "metadata": {
        "colab": {
          "base_uri": "https://localhost:8080/",
          "height": 222
        },
        "id": "PgPgEkka5PRY",
        "outputId": "6e88982f-e06f-4991-ec86-fa5b50d73a96"
      },
      "execution_count": null,
      "outputs": [
        {
          "output_type": "display_data",
          "data": {
            "text/plain": [
              "<Figure size 864x216 with 4 Axes>"
            ],
            "image/png": "[encoded data removed]"
          },
          "metadata": {
            "needs_background": "light"
          }
        }
      ]
    },
    {
      "cell_type": "code",
      "source": [],
      "metadata": {
        "id": "-LjLdSGC5dnR"
      },
      "execution_count": null,
      "outputs": []
    }
  ]
}