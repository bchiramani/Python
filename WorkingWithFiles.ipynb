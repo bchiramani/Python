{
  "nbformat": 4,
  "nbformat_minor": 0,
  "metadata": {
    "colab": {
      "provenance": [],
      "authorship_tag": "ABX9TyOiO5HpnuK4IpCnjH/L0JuD",
      "include_colab_link": true
    },
    "kernelspec": {
      "name": "python3",
      "display_name": "Python 3"
    },
    "language_info": {
      "name": "python"
    }
  },
  "cells": [
    {
      "cell_type": "markdown",
      "metadata": {
        "id": "view-in-github",
        "colab_type": "text"
      },
      "source": [
        "<a href=\"https://colab.research.google.com/github/bchiramani/Python/blob/main/WorkingWithFiles.ipynb\" target=\"_parent\"><img src=\"https://colab.research.google.com/assets/colab-badge.svg\" alt=\"Open In Colab\"/></a>"
      ]
    },
    {
      "cell_type": "code",
      "execution_count": null,
      "metadata": {
        "id": "nOBolo7_DOth"
      },
      "outputs": [],
      "source": []
    },
    {
      "cell_type": "markdown",
      "source": [
        "## **Working with Files**\n",
        "\n",
        "1.   Reading from a File\n",
        "2.   Writting to a File\n",
        "3.   Appending to a File\n",
        "4.   The difference between w+ and r+.\n",
        "5.   Copying a File\n",
        "\n",
        "\n",
        "\n",
        "\n"
      ],
      "metadata": {
        "id": "eU8b8qroDQIq"
      }
    },
    {
      "cell_type": "markdown",
      "source": [
        "# Reading From a File"
      ],
      "metadata": {
        "id": "2PuZQ8VjGgsW"
      }
    },
    {
      "cell_type": "code",
      "source": [
        "with open ('/content/workingWithFiles.csv','r') as readFile :\n",
        "  print(readFile.read())"
      ],
      "metadata": {
        "colab": {
          "base_uri": "https://localhost:8080/"
        },
        "id": "9B8jssWCDh1l",
        "outputId": "097572ca-3fc1-4c02-fda7-b2cb8f62d231"
      },
      "execution_count": null,
      "outputs": [
        {
          "output_type": "stream",
          "name": "stdout",
          "text": [
            "Day,ONE_DAY_PRECIPITATION\n",
            "2020-06-01 0:00:00,1\n",
            "2020-06-02 0:00:00,5.6\n",
            "2020-06-03 0:00:00,4.1\n",
            "2020-06-04 0:00:00,4\n",
            "2020-06-05 0:00:00,6.2\n",
            "2020-06-06 0:00:00,4\n",
            "2020-06-07 0:00:00,3.4\n",
            "2020-06-08 0:00:00,6\n",
            "2020-06-09 0:00:00,7.8\n",
            "2020-06-10 0:00:00,8\n",
            "2020-06-11 0:00:00,9\n",
            "2020-06-12 0:00:00,3\n",
            "2020-06-13 0:00:00,5.9\n",
            "2020-06-14 0:00:00,1.4\n",
            "2020-06-15 0:00:00,1.6\n",
            "2020-06-16 0:00:00,1.8\n",
            "2020-06-17 0:00:00,1.9\n",
            "2020-06-18 0:00:00,3.4\n",
            "2020-06-19 0:00:00,2.1\n",
            "2020-06-20 0:00:00,4.9\n",
            "2020-06-21 0:00:00,2.3\n",
            "2020-06-22 0:00:00,9.1\n",
            "2020-06-23 0:00:00,5.3\n",
            "2020-06-24 0:00:00,4\n",
            "2020-06-25 0:00:00,6\n",
            "2020-06-26 0:00:00,7.6\n",
            "2020-06-27 0:00:00,9.9\n",
            "2020-06-28 0:00:00,3\n",
            "2020-06-29 0:00:00,2.2\n",
            "2020-06-30 0:00:00,5.4\n",
            "2020-07-01 0:00:00,0.8\n"
          ]
        }
      ]
    },
    {
      "cell_type": "markdown",
      "source": [
        "# Writing To a File"
      ],
      "metadata": {
        "id": "KG5dm_gQGpIp"
      }
    },
    {
      "cell_type": "code",
      "source": [
        "with open('/content/workingWithFiles1.csv','w') as writeFile:\n",
        "  writeFile.write('1. hello world! \\n')\n",
        "  writeFile.write('2. hello world! \\n')\n",
        "\n"
      ],
      "metadata": {
        "id": "YaCarckjERoq"
      },
      "execution_count": null,
      "outputs": []
    },
    {
      "cell_type": "markdown",
      "source": [
        "# Appending  a File"
      ],
      "metadata": {
        "id": "iypIuF8DGxbI"
      }
    },
    {
      "cell_type": "code",
      "source": [
        "with open('/content/workingWithFiles1.csv','a') as myFile:\n",
        "  myFile.write(\"3. hello world!\\n\")\n"
      ],
      "metadata": {
        "id": "-oTqGIyWFK9D"
      },
      "execution_count": null,
      "outputs": []
    },
    {
      "cell_type": "markdown",
      "source": [
        "#The difference between **w+** and **r+**. \n",
        "Both of these modes allow access to read and write methods, however, opening a file in **w+** overwrites it and deletes all pre-existing data. <br>\n",
        "To work with a file on existing data, use **r+** and **a+**. "
      ],
      "metadata": {
        "id": "pTu-W9-eHjY2"
      }
    },
    {
      "cell_type": "code",
      "source": [
        "with open('/content/workingWithFiles1.csv','r+') as myFile:\n",
        "  print(myFile.read())\n",
        "  myFile.write(\"4. hello world!\\n\")\n"
      ],
      "metadata": {
        "colab": {
          "base_uri": "https://localhost:8080/"
        },
        "id": "hU6d8kUvE2xT",
        "outputId": "25e9c62c-5958-4cc7-82af-4158f53712e8"
      },
      "execution_count": null,
      "outputs": [
        {
          "output_type": "stream",
          "name": "stdout",
          "text": [
            "1. hello world! \n",
            "2. hello world! \n",
            "3. hello world!\n",
            "\n",
            "\n"
          ]
        }
      ]
    },
    {
      "cell_type": "code",
      "source": [
        "with open('/content/workingWithFiles1.csv','r') as myFile:\n",
        "  print(myFile.read())"
      ],
      "metadata": {
        "colab": {
          "base_uri": "https://localhost:8080/"
        },
        "id": "0OfMAoUCFdnk",
        "outputId": "826a55da-2c9f-4fe0-f651-d9cc52180b43"
      },
      "execution_count": null,
      "outputs": [
        {
          "output_type": "stream",
          "name": "stdout",
          "text": [
            "1. hello world! \n",
            "2. hello world! \n",
            "3. hello world!\n",
            "3. hello world!\n",
            "4. hello world!\n",
            "\n"
          ]
        }
      ]
    },
    {
      "cell_type": "code",
      "source": [
        "with open('/content/workingWithFiles.csv', 'r+') as myFile:\n",
        "    data = myFile.readlines()\n",
        "    # a list of each  line of the file\n",
        "    print(data)\n",
        "    myFile.seek(0,0)\n",
        "    myFile.write(\"Line1 \\n \")\n",
        "    myFile.write(\"Line2 \\n \")\n",
        "\n",
        "    #The truncate() method resizes the file to the given number of bytes.\n",
        "    #If the size is not specified, the current position will be used.\n",
        "    myFile.truncate()\n",
        "    myFile.seek(0,0)\n",
        "    print(myFile.read())\n",
        "\n",
        "\n"
      ],
      "metadata": {
        "colab": {
          "base_uri": "https://localhost:8080/"
        },
        "id": "7foRNUAsF5TL",
        "outputId": "40b0ee9f-9c81-45dd-bd2a-852d7b81cde2"
      },
      "execution_count": null,
      "outputs": [
        {
          "output_type": "stream",
          "name": "stdout",
          "text": [
            "['Line1 Line2 ']\n",
            "Line1 \n",
            " Line2 \n",
            " \n"
          ]
        }
      ]
    },
    {
      "cell_type": "markdown",
      "source": [
        "# Copying a File"
      ],
      "metadata": {
        "id": "Oqsdoi00JejO"
      }
    },
    {
      "cell_type": "code",
      "source": [
        "with open('/content/workingWithFiles.csv','r') as readFile:\n",
        "    with open('/content/workingWithFiles1.csv','r+') as writeFile:\n",
        "      writeFile.write(\"begin \\n\")\n",
        "      for line in readFile:\n",
        "        writeFile.write(line)\n",
        "\n",
        "\n"
      ],
      "metadata": {
        "id": "W62z_OzeII4i"
      },
      "execution_count": null,
      "outputs": []
    },
    {
      "cell_type": "code",
      "source": [],
      "metadata": {
        "id": "FE4UqjCJJSJ9"
      },
      "execution_count": null,
      "outputs": []
    }
  ]
}